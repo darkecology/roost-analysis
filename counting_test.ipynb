{
 "cells": [
  {
   "cell_type": "code",
   "execution_count": 1,
   "id": "fed42bcc",
   "metadata": {},
   "outputs": [],
   "source": [
    "filename = \"KILN20190808_103655_V06\"\n",
    "\n",
    "# pixel coordinates (in the 300 km : 600 pixels scale):\n",
    "px_c, py_c, pr_c =  565, 200, 55"
   ]
  },
  {
   "cell_type": "code",
   "execution_count": 2,
   "id": "ff5fb08a",
   "metadata": {},
   "outputs": [
    {
     "name": "stdout",
     "output_type": "stream",
     "text": [
      "\n",
      "## You are using the Python ARM Radar Toolkit (Py-ART), an open source\n",
      "## library for working with weather radar data. Py-ART is partly\n",
      "## supported by the U.S. Department of Energy as part of the Atmospheric\n",
      "## Radiation Measurement (ARM) Climate Research Facility, an Office of\n",
      "## Science user facility.\n",
      "##\n",
      "## If you use this software to prepare a publication, please cite:\n",
      "##\n",
      "##     JJ Helmus and SM Collis, JORS 2016, doi: 10.5334/jors.119\n",
      "\n",
      "22181.561199147567\n"
     ]
    }
   ],
   "source": [
    "from testing import *\n",
    "\n",
    "# Assume we are working with Purple Martins\n",
    "rcs = get_rcs(54)\n",
    "\n",
    "name = \"KILN20190808_103655_V06\"\n",
    "radar = read_s3(name)\n",
    "\n",
    "sweep_number = 0\n",
    "\n",
    "# Get the center and the radius of the bbox in pixel coordinates:\n",
    "px_c, py_c, pr_c =  565, 200, 55\n",
    "\n",
    "# Set the threshold above which we will consider reflectivity to be too # high (in linear scale):\n",
    "threshold = 68402\n",
    "        \n",
    "# Convert the pixel coordinates to cartesian values:\n",
    "detection_coordinates = image2xy(px_c, py_c, pr_c)\n",
    "\n",
    "number_of_birds_polar, _, overthresh_count, volume_range = calc_number_of_birds(radar, sweep_number, detection_coordinates, rcs, threshold, method=\"polar\")\n",
    "print(number_of_birds_polar)"
   ]
  },
  {
   "cell_type": "code",
   "execution_count": 3,
   "id": "4e9a8af8",
   "metadata": {},
   "outputs": [
    {
     "data": {
      "text/plain": [
       "22181.561199147567"
      ]
     },
     "execution_count": 3,
     "metadata": {},
     "output_type": "execute_result"
    }
   ],
   "source": [
    "number_of_birds_polar"
   ]
  },
  {
   "cell_type": "code",
   "execution_count": 4,
   "id": "cf84fe95",
   "metadata": {},
   "outputs": [],
   "source": [
    "# Helper function\n",
    "def image2xy(x, y, r=0, dim=600, rmax=150000):\n",
    "    '''\n",
    "    Convert from image coordinates to (x,y) coordinates offset from radar\n",
    "    '''\n",
    "    \n",
    "    x0 = y0 = dim/2.0 # origin\n",
    "    x =  (x - x0)*2*rmax/dim\n",
    "    y = -(y - y0)*2*rmax/dim\n",
    "    r = r*2*rmax/dim\n",
    "    \n",
    "    return x, y, r"
   ]
  },
  {
   "cell_type": "code",
   "execution_count": 7,
   "id": "2909f99f",
   "metadata": {},
   "outputs": [
    {
     "ename": "NameError",
     "evalue": "name 'n_levels' is not defined",
     "output_type": "error",
     "traceback": [
      "\u001b[0;31m---------------------------------------------------------------------------\u001b[0m",
      "\u001b[0;31mNameError\u001b[0m                                 Traceback (most recent call last)",
      "\u001b[0;32m/var/folders/hm/p_gkggm17tv72_cpnhrcsjd80000gn/T/ipykernel_33088/226270997.py\u001b[0m in \u001b[0;36m<module>\u001b[0;34m\u001b[0m\n\u001b[1;32m     36\u001b[0m \u001b[0;31m# Show results\u001b[0m\u001b[0;34m\u001b[0m\u001b[0;34m\u001b[0m\u001b[0m\n\u001b[1;32m     37\u001b[0m \u001b[0mx\u001b[0m\u001b[0;34m,\u001b[0m \u001b[0my\u001b[0m\u001b[0;34m,\u001b[0m \u001b[0mheight\u001b[0m \u001b[0;34m=\u001b[0m \u001b[0mgrid\u001b[0m\u001b[0;34m.\u001b[0m\u001b[0mcoords\u001b[0m\u001b[0;34m(\u001b[0m\u001b[0;34m)\u001b[0m\u001b[0;34m\u001b[0m\u001b[0;34m\u001b[0m\u001b[0m\n\u001b[0;32m---> 38\u001b[0;31m \u001b[0mfig\u001b[0m\u001b[0;34m,\u001b[0m \u001b[0max\u001b[0m \u001b[0;34m=\u001b[0m \u001b[0mplt\u001b[0m\u001b[0;34m.\u001b[0m\u001b[0msubplots\u001b[0m\u001b[0;34m(\u001b[0m\u001b[0mncols\u001b[0m\u001b[0;34m=\u001b[0m\u001b[0mn_levels\u001b[0m\u001b[0;34m,\u001b[0m \u001b[0mfigsize\u001b[0m\u001b[0;34m=\u001b[0m\u001b[0;34m(\u001b[0m\u001b[0;36m1.5\u001b[0m\u001b[0;34m*\u001b[0m\u001b[0mn_height_levels\u001b[0m\u001b[0;34m,\u001b[0m\u001b[0;36m3\u001b[0m\u001b[0;34m)\u001b[0m\u001b[0;34m)\u001b[0m\u001b[0;34m\u001b[0m\u001b[0;34m\u001b[0m\u001b[0m\n\u001b[0m\u001b[1;32m     39\u001b[0m \u001b[0mvmin\u001b[0m\u001b[0;34m,\u001b[0m \u001b[0mvmax\u001b[0m \u001b[0;34m=\u001b[0m \u001b[0;36m0\u001b[0m\u001b[0;34m,\u001b[0m \u001b[0;36m300\u001b[0m\u001b[0;34m\u001b[0m\u001b[0;34m\u001b[0m\u001b[0m\n\u001b[1;32m     40\u001b[0m \u001b[0;32mfor\u001b[0m \u001b[0mi\u001b[0m \u001b[0;32min\u001b[0m \u001b[0mrange\u001b[0m\u001b[0;34m(\u001b[0m\u001b[0mn_height_levels\u001b[0m\u001b[0;34m)\u001b[0m\u001b[0;34m:\u001b[0m\u001b[0;34m\u001b[0m\u001b[0;34m\u001b[0m\u001b[0m\n",
      "\u001b[0;31mNameError\u001b[0m: name 'n_levels' is not defined"
     ]
    }
   ],
   "source": [
    "# get roost coordinates in meters from radar\n",
    "x0, y0, r = image2xy(px_c, py_c, pr_c)\n",
    "\n",
    "# Get radar data on standardized polar grid\n",
    "#  --- all sweeps have same range, az values\n",
    "data, fields, elev, rng, az = radar2mat(radar, \n",
    "                                        coords='polar', \n",
    "                                        elevs=[0.5, 1.5, 2.5, 3.5, 4.5]);\n",
    "\n",
    "# Convert to reflectivity on linear scale and set nans to zero\n",
    "refl, _ = z_to_refl(idb(data[0]))\n",
    "refl[np.isnan(refl)] = 0.\n",
    "\n",
    "# The interpolating function\n",
    "F = radarVolumeInterpolant(refl, elev, rng, az, method='linear', elev_buffer=0.5)\n",
    "\n",
    "# Define grid\n",
    "n_height_levels = 20\n",
    "grid = Grid([\n",
    "    (x0-r, x0+r, 100),          # arguments to np.linspace for x dimension\n",
    "    (y0-r, y0+r, 100),          # y dimension \n",
    "    (0, 5000,  n_height_levels) # z dimension   \n",
    "])\n",
    "\n",
    "# Get radar coordinates of grid points\n",
    "x, y, z = grid.points()\n",
    "elev, rng, az = xyz2radar(x, y, z)\n",
    "\n",
    "# Do interpolation\n",
    "grid_val = F((elev, rng, az))\n",
    "\n",
    "# Set above threshold values to zero\n",
    "threshold = 68402\n",
    "grid_val[grid_val > threshold] = 0\n",
    "\n",
    "# Show results\n",
    "x, y, height = grid.coords()\n",
    "fig, ax = plt.subplots(ncols=n_height_levels, figsize=(1.5*n_height_levels,3))\n",
    "vmin, vmax = 0, 300\n",
    "for i in range(n_height_levels):\n",
    "    im = ax[i].imshow(grid_val[:,:,i], \n",
    "                      extent = (x[0]/1000, x[-1]/1000, y[0]/1000, y[-1]/1000),\n",
    "                      origin='lower', vmin=vmin, vmax=vmax)\n",
    "    ax[i].set_title(f\"{height[i]:.0f}m\")\n",
    "fig.colorbar(im, ax=ax.ravel().tolist())\n",
    "plt.show()\n",
    "\n",
    "# Get grid spacing for volume computations\n",
    "coords = grid.coords()\n",
    "dx, dy, dz = np.array([np.diff(c).mean() for c in coords])/1000 # convert from meters to kilometers\n",
    "\n",
    "# Compute total reflectivity and convert to number of birds\n",
    "total_reflectivity = np.nansum(grid_val * dx * dy * dz)\n",
    "rcs = get_rcs(54)\n",
    "count = total_reflectivity / rcs\n",
    "print(f\"Grid spacing in km: dx={dx:.2f}, dy={dy:.2f}, dz={dz:.2f}\")\n",
    "print(f\"Approx. number of birds: {count:.1f}\")"
   ]
  },
  {
   "cell_type": "code",
   "execution_count": 73,
   "id": "48f1bfee",
   "metadata": {},
   "outputs": [],
   "source": [
    "\n",
    "\n",
    "# Work in progress...\n",
    "\n",
    "def get_polar_grid_volume(theta, phi, r, dtheta, dphi, dr):\n",
    "    # r and dr are in meters\n",
    "    return r**2 * np.sin(theta) * dr * dtheta* dphi / 1e9 # convert from m^3 to km^3"
   ]
  }
 ],
 "metadata": {
  "kernelspec": {
   "display_name": "Python 3 (ipykernel)",
   "language": "python",
   "name": "python3"
  },
  "language_info": {
   "codemirror_mode": {
    "name": "ipython",
    "version": 3
   },
   "file_extension": ".py",
   "mimetype": "text/x-python",
   "name": "python",
   "nbconvert_exporter": "python",
   "pygments_lexer": "ipython3",
   "version": "3.9.7"
  }
 },
 "nbformat": 4,
 "nbformat_minor": 5
}
